{
 "cells": [
  {
   "cell_type": "code",
   "execution_count": 4,
   "metadata": {},
   "outputs": [],
   "source": [
    "#include <stdio.h>\n",
    "#include <stdlib.h>\n",
    "#include <math.h>"
   ]
  },
  {
   "cell_type": "code",
   "execution_count": 5,
   "metadata": {},
   "outputs": [
    {
     "data": {
      "text/plain": [
       "233168"
      ]
     },
     "execution_count": 5,
     "metadata": {},
     "output_type": "execute_result"
    }
   ],
   "source": [
    "int SumDivisible(int n, int max)\n",
    "{\n",
    "  int p = max / n;\n",
    "  return n * (p * (p + 1)) / 2;\n",
    "}\n",
    "int max = 999;\n",
    "int sum = SumDivisible(3, max) + SumDivisible(5, max) - SumDivisible(15, max);\n",
    "sum"
   ]
  },
  {
   "cell_type": "code",
   "execution_count": 6,
   "metadata": {},
   "outputs": [
    {
     "data": {
      "text/plain": [
       "4613732"
      ]
     },
     "execution_count": 6,
     "metadata": {},
     "output_type": "execute_result"
    }
   ],
   "source": [
    "int limit = 4000000;\n",
    "sum = 0;\n",
    "int a = 1;\n",
    "int b = 1;\n",
    "int c = 2;\n",
    "while (c < limit) {\n",
    "    sum += c;\n",
    "    a = b + c;\n",
    "    b = c + a;\n",
    "    c = a + b;\n",
    "}\n",
    "sum"
   ]
  },
  {
   "cell_type": "code",
   "execution_count": 7,
   "metadata": {},
   "outputs": [
    {
     "data": {
      "text/plain": [
       "6857"
      ]
     },
     "execution_count": 7,
     "metadata": {},
     "output_type": "execute_result"
    }
   ],
   "source": [
    "unsigned long int n = 600851475143;\n",
    "unsigned long int last_factor = 1;\n",
    "if (n % 2 == 0) {\n",
    "    last_factor = 2;\n",
    "    n /= 2;\n",
    "    while (n % 2 == 0) {\n",
    "      n /= 2;\n",
    "    }\n",
    "}\n",
    "unsigned long int factor = 3;\n",
    "unsigned long int max_factor = sqrt(n);\n",
    "while (n > 1 && factor <= max_factor) {\n",
    "    if (n % factor == 0) {\n",
    "      n /= factor;\n",
    "      last_factor = factor;\n",
    "      while (n % factor == 0) {\n",
    "        n /= factor;\n",
    "      }\n",
    "      max_factor = sqrt(n);\n",
    "    }\n",
    "    factor += 2;\n",
    "}\n",
    "if (n != 1) {\n",
    "    last_factor = n;\n",
    "}\n",
    "last_factor"
   ]
  },
  {
   "cell_type": "code",
   "execution_count": 2,
   "metadata": {},
   "outputs": [],
   "source": [
    "int ReverseInteger(int val)\n",
    "{\n",
    "  int reversed = 0;\n",
    "  while (val > 0) {\n",
    "    reversed = (10 * reversed) + (val % 10);\n",
    "    val = val / 10;\n",
    "  }\n",
    "  return reversed;\n",
    "}"
   ]
  },
  {
   "cell_type": "code",
   "execution_count": 3,
   "metadata": {},
   "outputs": [
    {
     "name": "stderr",
     "output_type": "stream",
     "text": [
      "\u001b[1minput_line_9:8:1: \u001b[0m\u001b[0;1;31merror: \u001b[0m\u001b[1muse of undeclared identifier 'max'\u001b[0m\n",
      "max = 0;\n",
      "\u001b[0;1;32m^\n",
      "\u001b[0m\u001b[1minput_line_9:10:5: \u001b[0m\u001b[0;1;31merror: \u001b[0m\u001b[1muse of undeclared identifier 'max'\u001b[0m\n",
      "    max = (max * 10) + 9;\n",
      "\u001b[0;1;32m    ^\n",
      "\u001b[0m\u001b[1minput_line_9:10:12: \u001b[0m\u001b[0;1;31merror: \u001b[0m\u001b[1muse of undeclared identifier 'max'; did you mean 'fmax'?\u001b[0m\n",
      "    max = (max * 10) + 9;\n",
      "\u001b[0;1;32m           ^~~\n",
      "\u001b[0m\u001b[0;32m           fmax\n",
      "\u001b[0m\u001b[1m/usr/include/x86_64-linux-gnu/bits/mathcalls.h:329:14: \u001b[0m\u001b[0;1;30mnote: \u001b[0m'fmax' declared here\u001b[0m\n",
      "__MATHCALLX (fmax,, (_Mdouble_ __x, _Mdouble_ __y), (__const__));\n",
      "\u001b[0;1;32m             ^\n",
      "\u001b[0m\u001b[1minput_line_9:10:16: \u001b[0m\u001b[0;1;31merror: \u001b[0m\u001b[1minvalid operands to binary expression ('double (*)(double, double) throw()' and 'int')\u001b[0m\n",
      "    max = (max * 10) + 9;\n",
      "\u001b[0;1;32m           ~~~ ^ ~~\n",
      "\u001b[0m\u001b[1minput_line_9:13:1: \u001b[0m\u001b[0;1;31merror: \u001b[0m\u001b[1muse of undeclared identifier 'a'\u001b[0m\n",
      "a = max;\n",
      "\u001b[0;1;32m^\n",
      "\u001b[0m\u001b[1minput_line_9:13:5: \u001b[0m\u001b[0;1;31merror: \u001b[0m\u001b[1muse of undeclared identifier 'max'; did you mean 'fmax'?\u001b[0m\n",
      "a = max;\n",
      "\u001b[0;1;32m    ^~~\n",
      "\u001b[0m\u001b[0;32m    fmax\n",
      "\u001b[0m\u001b[1m/usr/include/x86_64-linux-gnu/bits/mathcalls.h:329:14: \u001b[0m\u001b[0;1;30mnote: \u001b[0m'fmax' declared here\u001b[0m\n",
      "__MATHCALLX (fmax,, (_Mdouble_ __x, _Mdouble_ __y), (__const__));\n",
      "\u001b[0;1;32m             ^\n",
      "\u001b[0m\u001b[1minput_line_9:15:8: \u001b[0m\u001b[0;1;31merror: \u001b[0m\u001b[1muse of undeclared identifier 'a'\u001b[0m\n",
      "while (a >= (10 * count)) {\n",
      "\u001b[0;1;32m       ^\n",
      "\u001b[0m\u001b[1minput_line_9:18:9: \u001b[0m\u001b[0;1;31merror: \u001b[0m\u001b[1muse of undeclared identifier 'a'\u001b[0m\n",
      "    if (a % 11 == 0) {\n",
      "\u001b[0;1;32m        ^\n",
      "\u001b[0m\u001b[1minput_line_9:19:11: \u001b[0m\u001b[0;1;31merror: \u001b[0m\u001b[1muse of undeclared identifier 'max'\u001b[0m\n",
      "      b = max;\n",
      "\u001b[0;1;32m          ^\n",
      "\u001b[0m\u001b[1minput_line_9:22:17: \u001b[0m\u001b[0;1;31merror: \u001b[0m\u001b[1muse of undeclared identifier 'max'; did you mean 'fmax'?\u001b[0m\n",
      "      b = 11 * (max / 11);\n",
      "\u001b[0;1;32m                ^~~\n",
      "\u001b[0m\u001b[0;32m                fmax\n",
      "\u001b[0m\u001b[1m/usr/include/x86_64-linux-gnu/bits/mathcalls.h:329:14: \u001b[0m\u001b[0;1;30mnote: \u001b[0m'fmax' declared here\u001b[0m\n",
      "__MATHCALLX (fmax,, (_Mdouble_ __x, _Mdouble_ __y), (__const__));\n",
      "\u001b[0;1;32m             ^\n",
      "\u001b[0m\u001b[1minput_line_9:22:21: \u001b[0m\u001b[0;1;31merror: \u001b[0m\u001b[1minvalid operands to binary expression ('double (*)(double, double) throw()' and 'int')\u001b[0m\n",
      "      b = 11 * (max / 11);\n",
      "\u001b[0;1;32m                ~~~ ^ ~~\n",
      "\u001b[0m\u001b[1minput_line_9:25:17: \u001b[0m\u001b[0;1;31merror: \u001b[0m\u001b[1muse of undeclared identifier 'a'\u001b[0m\n",
      "    while (b >= a) {\n",
      "\u001b[0;1;32m                ^\n",
      "\u001b[0m\u001b[1minput_line_9:26:11: \u001b[0m\u001b[0;1;31merror: \u001b[0m\u001b[1muse of undeclared identifier 'a'\u001b[0m\n",
      "      if (a * b <= largest) {\n",
      "\u001b[0;1;32m          ^\n",
      "\u001b[0m\u001b[1minput_line_9:28:31: \u001b[0m\u001b[0;1;31merror: \u001b[0m\u001b[1muse of undeclared identifier 'a'\u001b[0m\n",
      "      } else if (IsPalindrome(a * b)) {\n",
      "\u001b[0;1;32m                              ^\n",
      "\u001b[0m\u001b[1minput_line_9:29:19: \u001b[0m\u001b[0;1;31merror: \u001b[0m\u001b[1muse of undeclared identifier 'a'\u001b[0m\n",
      "        largest = a * b;\n",
      "\u001b[0;1;32m                  ^\n",
      "\u001b[0m\u001b[1minput_line_9:33:5: \u001b[0m\u001b[0;1;31merror: \u001b[0m\u001b[1muse of undeclared identifier 'a'\u001b[0m\n",
      "    a--;\n",
      "\u001b[0;1;32m    ^\n",
      "\u001b[0m"
     ]
    },
    {
     "ename": "Interpreter Error",
     "evalue": "",
     "output_type": "error",
     "traceback": [
      "Interpreter Error: "
     ]
    }
   ],
   "source": [
    "\n",
    "int IsPalindrome(int n)\n",
    "{\n",
    "  return n == ReverseInteger(n);\n",
    "}\n",
    "\n",
    "int count = 3;\n",
    "int tmp = count;\n",
    "max = 0;\n",
    "while (tmp > 0) {\n",
    "    max = (max * 10) + 9;\n",
    "    tmp--;\n",
    "}\n",
    "a = max;\n",
    "int largest = 0;\n",
    "while (a >= (10 * count)) {\n",
    "    int b = 0;\n",
    "    int db = 0;\n",
    "    if (a % 11 == 0) {\n",
    "      b = max;\n",
    "      db = 1;\n",
    "    } else {\n",
    "      b = 11 * (max / 11);\n",
    "      db = 11;\n",
    "    }\n",
    "    while (b >= a) {\n",
    "      if (a * b <= largest) {\n",
    "        break;\n",
    "      } else if (IsPalindrome(a * b)) {\n",
    "        largest = a * b;\n",
    "      }\n",
    "      b -= db;\n",
    "    }\n",
    "    a--;\n",
    "}\n",
    "largest\n"
   ]
  },
  {
   "cell_type": "code",
   "execution_count": null,
   "metadata": {},
   "outputs": [],
   "source": []
  }
 ],
 "metadata": {
  "kernelspec": {
   "display_name": "C++17",
   "language": "C++17",
   "name": "xeus-cling-cpp17"
  },
  "language_info": {
   "codemirror_mode": "text/x-c++src",
   "file_extension": ".cpp",
   "mimetype": "text/x-c++src",
   "name": "c++",
   "version": "-std=c++17"
  }
 },
 "nbformat": 4,
 "nbformat_minor": 2
}
